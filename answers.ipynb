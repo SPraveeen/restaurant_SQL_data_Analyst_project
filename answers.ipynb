{
 "cells": [
  {
   "cell_type": "markdown",
   "id": "c776ae49",
   "metadata": {},
   "source": [
    "**objective 1**"
   ]
  },
  {
   "cell_type": "code",
   "execution_count": 1,
   "id": "72ad52c9",
   "metadata": {},
   "outputs": [
    {
     "ename": "SyntaxError",
     "evalue": "invalid decimal literal (374521657.py, line 9)",
     "output_type": "error",
     "traceback": [
      "  \u001b[36mCell\u001b[39m\u001b[36m \u001b[39m\u001b[32mIn[1]\u001b[39m\u001b[32m, line 9\u001b[39m\n\u001b[31m    \u001b[39m\u001b[31m-- 3.what are the least and most expensive list on the menu.\u001b[39m\n        ^\n\u001b[31mSyntaxError\u001b[39m\u001b[31m:\u001b[39m invalid decimal literal\n"
     ]
    }
   ],
   "source": [
    "use restaurant_db;\n",
    "\n",
    "-- 1. View the menu_items table.\n",
    "select * from menu_items;\n",
    "\n",
    "-- 2. Find the number of items on the menu.\n",
    "select count(*) from menu_items;\n",
    "\n",
    "-- 3.what are the least and most expensive list on the menu.\n",
    "-- select max(price) as most_expensive, \n",
    "-- min(price) as least_expensive from menu_items;\n",
    "select * from menu_items\n",
    "order by price;\n",
    "\n",
    "select * from menu_items\n",
    "order by price desc;\n",
    "\n",
    "-- 4.How many italian dishes are on the menu\n",
    "select count(*) from menu_items\n",
    "where category = \"Italian\";\n",
    "\n",
    "-- 5.What are the least and most expensive italian dishes on the menu ?\n",
    "select * from menu_items\n",
    "where category =\"Italian\"\n",
    "order by price\n",
    "limit 1;\n",
    "\n",
    "select * from menu_items\n",
    "where category =\"Italian\"\n",
    "order by price desc\n",
    "limit 1;\n",
    "\n",
    "-- 6. How many dishes are in each category\n",
    "select count(item_name) as dishes,category \n",
    "from menu_items\n",
    "group by category;\n",
    "\n",
    "-- 7. what is the average dish price in each category \n",
    "select avg(price),category from menu_items\n",
    "group by category;\n",
    "\n"
   ]
  },
  {
   "cell_type": "markdown",
   "id": "03813851",
   "metadata": {},
   "source": [
    "**objective 2**"
   ]
  },
  {
   "cell_type": "code",
   "execution_count": null,
   "id": "1f53def7",
   "metadata": {},
   "outputs": [],
   "source": [
    "-- 1. view the order details table\n",
    "select * from order_details;\n",
    "\n",
    "-- 2.what is the date range of the table\n",
    "select min(order_date),max(order_date) from order_details;\n",
    "\n",
    "-- 3.How many orders were made with this date range\n",
    "select count(distinct(order_id)) from order_details;\n",
    "\n",
    "-- 4. How many items were ordered within this date range\n",
    "select count(*) from order_details;\n",
    "\n",
    "-- 5. which orders has the most number of items\n",
    "select order_id, count(item_id) as num_items \n",
    "from order_details\n",
    "group by order_id\n",
    "order by num_items desc;\n",
    "\n",
    "-- 6. How many orders has more than 12 items\n",
    "select count(*) from(\n",
    "select order_id, count(item_id) as num_items \n",
    "from order_details\n",
    "group by order_id) as t\n",
    "where t.num_items >12;\n"
   ]
  },
  {
   "cell_type": "markdown",
   "id": "9021c62e",
   "metadata": {},
   "source": [
    "**objective 3**"
   ]
  },
  {
   "cell_type": "code",
   "execution_count": null,
   "id": "7945b0b8",
   "metadata": {},
   "outputs": [],
   "source": [
    "-- 1. combine the menu_items and order_details tables into a single table.\n",
    "select * from order_details as o\n",
    "left join menu_items as m\n",
    "on m.menu_item_id = o.item_id;\n",
    "\n",
    "-- 2.what were the least and most ordered items? what categories were they in ?\n",
    "select item_name,category, count(order_details_id) as num_purchases \n",
    "from order_details as o\n",
    "left join menu_items as m\n",
    "on m.menu_item_id = o.item_id\n",
    "group by item_name,category\n",
    "order by num_purchases;\n",
    "\n",
    "-- 3.what were the top 5 orders that spent the most money?\n",
    "select order_id,sum(price)as total_spend \n",
    "from order_details as o\n",
    "left join menu_items as m\n",
    "on m.menu_item_id = o.item_id\n",
    "group by order_id\n",
    "order by total_spend desc\n",
    "limit 5;\n",
    "\n",
    "-- 4. view the details of the highest spend order, what insights can you gather from that\n",
    "select category,count(item_id) as num_items\n",
    "from order_details as o\n",
    "left join menu_items as m\n",
    "on m.menu_item_id = o.item_id\n",
    "where order_id=440\n",
    "group by category;\n",
    "\n",
    "-- 5.view the details of the top 5 highest spend orders. what insights can you gather from that\n",
    "select order_id,category,count(item_id) as num_items\n",
    "from order_details as o\n",
    "left join menu_items as m\n",
    "on m.menu_item_id = o.item_id\n",
    "where order_id in (440,2075,1957,330,2675)\n",
    "group by order_id,category;\n",
    "\n"
   ]
  },
  {
   "cell_type": "markdown",
   "id": "4058e753",
   "metadata": {},
   "source": []
  }
 ],
 "metadata": {
  "kernelspec": {
   "display_name": "Python 3",
   "language": "python",
   "name": "python3"
  },
  "language_info": {
   "codemirror_mode": {
    "name": "ipython",
    "version": 3
   },
   "file_extension": ".py",
   "mimetype": "text/x-python",
   "name": "python",
   "nbconvert_exporter": "python",
   "pygments_lexer": "ipython3",
   "version": "3.13.3"
  }
 },
 "nbformat": 4,
 "nbformat_minor": 5
}
